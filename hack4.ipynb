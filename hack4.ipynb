{
 "cells": [
  {
   "cell_type": "code",
   "execution_count": 2,
   "id": "544db377-9625-4299-b6bd-e326c2cf4e52",
   "metadata": {},
   "outputs": [
    {
     "name": "stdout",
     "output_type": "stream",
     "text": [
      "Requirement already satisfied: pandas in c:\\users\\gknag\\anaconda3\\lib\\site-packages (2.1.4)\n",
      "Requirement already satisfied: numpy<2,>=1.23.2 in c:\\users\\gknag\\anaconda3\\lib\\site-packages (from pandas) (1.26.4)\n",
      "Requirement already satisfied: python-dateutil>=2.8.2 in c:\\users\\gknag\\anaconda3\\lib\\site-packages (from pandas) (2.8.2)\n",
      "Requirement already satisfied: pytz>=2020.1 in c:\\users\\gknag\\anaconda3\\lib\\site-packages (from pandas) (2023.3.post1)\n",
      "Requirement already satisfied: tzdata>=2022.1 in c:\\users\\gknag\\anaconda3\\lib\\site-packages (from pandas) (2023.3)\n",
      "Requirement already satisfied: six>=1.5 in c:\\users\\gknag\\anaconda3\\lib\\site-packages (from python-dateutil>=2.8.2->pandas) (1.16.0)\n",
      "Note: you may need to restart the kernel to use updated packages.\n"
     ]
    }
   ],
   "source": [
    "pip install pandas"
   ]
  },
  {
   "cell_type": "code",
   "execution_count": 3,
   "id": "bfad2bbf-507c-45e6-8a3b-990c13c4cbcb",
   "metadata": {},
   "outputs": [
    {
     "name": "stdout",
     "output_type": "stream",
     "text": [
      "Requirement already satisfied: seaborn in c:\\users\\gknag\\anaconda3\\lib\\site-packages (0.12.2)\n",
      "Requirement already satisfied: numpy!=1.24.0,>=1.17 in c:\\users\\gknag\\anaconda3\\lib\\site-packages (from seaborn) (1.26.4)\n",
      "Requirement already satisfied: pandas>=0.25 in c:\\users\\gknag\\anaconda3\\lib\\site-packages (from seaborn) (2.1.4)\n",
      "Requirement already satisfied: matplotlib!=3.6.1,>=3.1 in c:\\users\\gknag\\anaconda3\\lib\\site-packages (from seaborn) (3.8.0)\n",
      "Requirement already satisfied: contourpy>=1.0.1 in c:\\users\\gknag\\anaconda3\\lib\\site-packages (from matplotlib!=3.6.1,>=3.1->seaborn) (1.2.0)\n",
      "Requirement already satisfied: cycler>=0.10 in c:\\users\\gknag\\anaconda3\\lib\\site-packages (from matplotlib!=3.6.1,>=3.1->seaborn) (0.11.0)\n",
      "Requirement already satisfied: fonttools>=4.22.0 in c:\\users\\gknag\\anaconda3\\lib\\site-packages (from matplotlib!=3.6.1,>=3.1->seaborn) (4.25.0)\n",
      "Requirement already satisfied: kiwisolver>=1.0.1 in c:\\users\\gknag\\anaconda3\\lib\\site-packages (from matplotlib!=3.6.1,>=3.1->seaborn) (1.4.4)\n",
      "Requirement already satisfied: packaging>=20.0 in c:\\users\\gknag\\anaconda3\\lib\\site-packages (from matplotlib!=3.6.1,>=3.1->seaborn) (23.1)\n",
      "Requirement already satisfied: pillow>=6.2.0 in c:\\users\\gknag\\anaconda3\\lib\\site-packages (from matplotlib!=3.6.1,>=3.1->seaborn) (10.2.0)\n",
      "Requirement already satisfied: pyparsing>=2.3.1 in c:\\users\\gknag\\anaconda3\\lib\\site-packages (from matplotlib!=3.6.1,>=3.1->seaborn) (3.0.9)\n",
      "Requirement already satisfied: python-dateutil>=2.7 in c:\\users\\gknag\\anaconda3\\lib\\site-packages (from matplotlib!=3.6.1,>=3.1->seaborn) (2.8.2)\n",
      "Requirement already satisfied: pytz>=2020.1 in c:\\users\\gknag\\anaconda3\\lib\\site-packages (from pandas>=0.25->seaborn) (2023.3.post1)\n",
      "Requirement already satisfied: tzdata>=2022.1 in c:\\users\\gknag\\anaconda3\\lib\\site-packages (from pandas>=0.25->seaborn) (2023.3)\n",
      "Requirement already satisfied: six>=1.5 in c:\\users\\gknag\\anaconda3\\lib\\site-packages (from python-dateutil>=2.7->matplotlib!=3.6.1,>=3.1->seaborn) (1.16.0)\n",
      "Note: you may need to restart the kernel to use updated packages.\n"
     ]
    }
   ],
   "source": [
    "pip install seaborn"
   ]
  },
  {
   "cell_type": "code",
   "execution_count": null,
   "id": "9ff48403-13b3-4e77-a3f7-e86ef1f367aa",
   "metadata": {},
   "outputs": [],
   "source": [
    "find the patients who have 'h' in their DestinationDischarge and print them"
   ]
  },
  {
   "cell_type": "code",
   "execution_count": 1,
   "id": "54cb042a-4732-453f-a151-d616501a6758",
   "metadata": {},
   "outputs": [
    {
     "name": "stdout",
     "output_type": "stream",
     "text": [
      "     DestinationDischarge\n",
      "7      HealthcareFacility\n",
      "18     HealthcareFacility\n",
      "22     HealthcareFacility\n",
      "29     HealthcareFacility\n",
      "31     HealthcareFacility\n",
      "...                   ...\n",
      "2001   HealthcareFacility\n",
      "2002   HealthcareFacility\n",
      "2003   HealthcareFacility\n",
      "2004   HealthcareFacility\n",
      "2005   HealthcareFacility\n",
      "\n",
      "[438 rows x 1 columns]\n"
     ]
    }
   ],
   "source": [
    "import pandas as pd\n",
    "from pandas import DataFrame,Series\n",
    "\n",
    "response2= pd.read_excel('Cardiac_Outcomes.xlsx', sheet_name='Hospitalization_Discharge')\n",
    "data=response2[['DestinationDischarge']]\n",
    "df=pd.DataFrame(data)\n",
    "y=df['DestinationDischarge'].str.contains('h')\n",
    "print(df[y])"
   ]
  },
  {
   "cell_type": "code",
   "execution_count": null,
   "id": "04c5a814-aff5-465c-a7a0-3691ee7e81b6",
   "metadata": {},
   "outputs": [],
   "source": [
    "#35\tfind the way to reverse string for given input (eg: input : This hackathon is about cardiac outcomes: outcomes cardiac about is hackathon This)"
   ]
  },
  {
   "cell_type": "code",
   "execution_count": 2,
   "id": "ffb2b521-60c8-4fff-833c-64ab0f8bcbe7",
   "metadata": {},
   "outputs": [
    {
     "name": "stdout",
     "output_type": "stream",
     "text": [
      "learning good is hackathon python\n"
     ]
    }
   ],
   "source": [
    "s = \"python hackathon is good learning\"\n",
    "words = s.split(' ')\n",
    "string = []\n",
    "for x in words:\n",
    "    string.insert(0, x)\n",
    " \n",
    " \n",
    "print(\" \".join(string))"
   ]
  },
  {
   "cell_type": "code",
   "execution_count": null,
   "id": "60724b84-c52d-4825-90a7-e5026edcd7f5",
   "metadata": {},
   "outputs": [],
   "source": [
    "#33\tRetrieve the row with minimum white_blood_cell count using sorting technique.\n"
   ]
  },
  {
   "cell_type": "code",
   "execution_count": null,
   "id": "61c65cdf-3a74-44a7-9d65-fc1772cfbdb0",
   "metadata": {},
   "outputs": [],
   "source": [
    "import pandas as pd\n",
    "response4= pd.read_excel('Cardiac_Outcomes.xlsx', sheet_name='Labs')\n",
    "y=response4.sort_values(by='white_blood_cell')\n",
    "#print(y)\n",
    "y.head(1)"
   ]
  },
  {
   "cell_type": "code",
   "execution_count": 3,
   "id": "932a7f60-cb8f-460b-b80f-42864c146aa1",
   "metadata": {},
   "outputs": [],
   "source": [
    "#which Admission Ward has maximum number of visits scheduled"
   ]
  },
  {
   "cell_type": "code",
   "execution_count": 4,
   "id": "bbfb5d02-cfb8-4fed-87f0-2f926ce55725",
   "metadata": {},
   "outputs": [
    {
     "name": "stdout",
     "output_type": "stream",
     "text": [
      "admission_ward  visit_times\n",
      "Cardiology      1              1427\n",
      "                2                94\n",
      "                3                18\n",
      "                4                 6\n",
      "                5                 2\n",
      "GeneralWard     1               253\n",
      "                2                10\n",
      "                3                 2\n",
      "ICU             1                13\n",
      "                2                 2\n",
      "Others          1               167\n",
      "                2                14\n",
      "Name: count, dtype: int64\n",
      "admission_ward  visit_times\n",
      "Cardiology      1              1427\n",
      "Name: count, dtype: int64\n"
     ]
    }
   ],
   "source": [
    "response2= pd.read_excel('Cardiac_Outcomes.xlsx', sheet_name='Hospitalization_Discharge')\n",
    "df=pd.DataFrame(response2)\n",
    "admission_ward=response2.groupby(response2['admission_ward'])['visit_times'].value_counts()\n",
    "print(admission_ward)\n",
    "print(admission_ward.head(1))"
   ]
  },
  {
   "cell_type": "code",
   "execution_count": null,
   "id": "e3c38df9-ef32-4948-8a7e-ba8546c55cea",
   "metadata": {},
   "outputs": [],
   "source": []
  },
  {
   "cell_type": "code",
   "execution_count": null,
   "id": "01084fa9-3e85-4463-9b4a-262eff85d747",
   "metadata": {},
   "outputs": [],
   "source": []
  }
 ],
 "metadata": {
  "kernelspec": {
   "display_name": "Python 3 (ipykernel)",
   "language": "python",
   "name": "python3"
  },
  "language_info": {
   "codemirror_mode": {
    "name": "ipython",
    "version": 3
   },
   "file_extension": ".py",
   "mimetype": "text/x-python",
   "name": "python",
   "nbconvert_exporter": "python",
   "pygments_lexer": "ipython3",
   "version": "3.11.7"
  }
 },
 "nbformat": 4,
 "nbformat_minor": 5
}
