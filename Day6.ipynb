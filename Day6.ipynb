{
 "cells": [
  {
   "cell_type": "code",
   "execution_count": 13,
   "id": "9cd403ce-5abc-4a34-9e73-c51acfe27f77",
   "metadata": {},
   "outputs": [
    {
     "name": "stdout",
     "output_type": "stream",
     "text": [
      "Cardiac_Outcomes.xlsx\n"
     ]
    }
   ],
   "source": [
    "import pandas as pd\n",
    "import numpy as np\n",
    "import matplotlib.pyplot as plt\n",
    "\n",
    "data_file=(\"Cardiac_Outcomes.xlsx\")\n",
    "all_sheets=pd.read_excel(data_file,sheet_name=None)\n",
    "#to access sheet by name in excel\n",
    "Hospital_data=all_sheets['Hospitalization_Discharge']\n",
    "Cardiac_data=all_sheets['CardiacComplications']\n",
    "Response_data=all_sheets['Responsivenes']\n",
    "Patient_data=all_sheets['PatientHistory']\n",
    "lab_data=all_sheets['Labs']\n",
    "Demography_data=all_sheets['Demography']\n",
    "Patientpre_data=all_sheets['Patient_Precriptions']\n",
    "print(data_file)\n"
   ]
  },
  {
   "cell_type": "code",
   "execution_count": 4,
   "id": "f6180d0e-0ddd-470c-8dd7-988f6ec6962b",
   "metadata": {},
   "outputs": [
    {
     "name": "stdout",
     "output_type": "stream",
     "text": [
      "Requirement already satisfied: scikit-learn in c:\\users\\vidhy\\anaconda3\\lib\\site-packages (1.2.2)Note: you may need to restart the kernel to use updated packages.\n",
      "\n",
      "Requirement already satisfied: numpy>=1.17.3 in c:\\users\\vidhy\\anaconda3\\lib\\site-packages (from scikit-learn) (1.26.4)\n",
      "Requirement already satisfied: scipy>=1.3.2 in c:\\users\\vidhy\\anaconda3\\lib\\site-packages (from scikit-learn) (1.11.4)\n",
      "Requirement already satisfied: joblib>=1.1.1 in c:\\users\\vidhy\\anaconda3\\lib\\site-packages (from scikit-learn) (1.2.0)\n",
      "Requirement already satisfied: threadpoolctl>=2.0.0 in c:\\users\\vidhy\\anaconda3\\lib\\site-packages (from scikit-learn) (2.2.0)\n"
     ]
    }
   ],
   "source": [
    "pip install scikit-learn"
   ]
  },
  {
   "cell_type": "markdown",
   "id": "b328885d-0fc8-4bbb-843a-155023ed8e4a",
   "metadata": {},
   "source": [
    "# 53) What is the correlation between CCI score and outcome?"
   ]
  },
  {
   "cell_type": "code",
   "execution_count": 11,
   "id": "631ec6f3-30e3-43a3-81f1-51051e15de17",
   "metadata": {},
   "outputs": [
    {
     "name": "stdout",
     "output_type": "stream",
     "text": [
      "Both arrays must have length atleast 2 to correlate\n"
     ]
    }
   ],
   "source": [
    "from scipy.stats import pearsonr\n",
    "from sklearn.preprocessing import LabelEncoder\n",
    "merged=pd.merge(Hospital_data, Patient_data , on='inpatient_number')\n",
    "merged=merged.replace([float('inf'), -float('inf')],pd.NA).dropna()\n",
    "label=LabelEncoder()\n",
    "merged['encoded']=label.fit_transform(merged['outcome_during_hospitalization'])\n",
    "if len(merged['encoded'])>=2 and len(merged['CCI_score'])>=2:\n",
    "   correlation,value=pearsonr(merged['encoded'],merged['CCI_score'])\n",
    "   print('correlation',correlation)\n",
    "else:\n",
    "   print(\"Both arrays must have length atleast 2 to correlate\")\n"
   ]
  },
  {
   "cell_type": "markdown",
   "id": "b13f9b28-f2cb-4374-951f-960290881010",
   "metadata": {},
   "source": [
    "# 2) Divide GCS scores into slabs of 5 and count the number of patients under each band of score. Show this as any graph of your choice"
   ]
  },
  {
   "cell_type": "code",
   "execution_count": 22,
   "id": "0e153aba-d5f4-419d-ae67-e32bb235ab00",
   "metadata": {},
   "outputs": [
    {
     "data": {
      "image/png": "[encoded data removed]",
      "text/plain": [
       "<Figure size 640x480 with 1 Axes>"
      ]
     },
     "metadata": {},
     "output_type": "display_data"
    }
   ],
   "source": [
    "slab=pd.cut(Response_data['GCS'],bins=range(3,16,5), right=False)\n",
    "scores=slab.value_counts().sort_index()\n",
    "plt.bar(scores.index.astype(str),scores.values,color='skyblue')\n",
    "plt.xlabel('GCS Score')\n",
    "plt.ylabel('patients count')\n",
    "plt.title('Distribution of GCS Score')\n",
    "plt.grid(axis='y',linestyle='--',alpha=0.7)\n",
    "plt.show()\n",
    "            "
   ]
  },
  {
   "cell_type": "markdown",
   "id": "eaa8ab18-8a2f-46e2-8989-857c94df07b8",
   "metadata": {},
   "source": [
    "# 6) What was the average age group of the patients that had an outcome of 'Alive'?"
   ]
  },
  {
   "cell_type": "code",
   "execution_count": 23,
   "id": "e9869936-6eca-4e46-a5b9-af59126998ce",
   "metadata": {},
   "outputs": [
    {
     "name": "stdout",
     "output_type": "stream",
     "text": [
      "average age of patients with outcome alive 73.95\n"
     ]
    }
   ],
   "source": [
    "#merged=pd.merge(Hospital_data, Demography_data , on='inpatient_number')\n",
    "import seaborn as sns\n",
    "import matplotlib.pyplot as plt\n",
    "def Random_Age(age):\n",
    " return pd.Series(age.split(\"-\", 1))\n",
    "Demography_data[['Age1', 'Age2']] = Demography_data['ageCat'].apply(Random_Age)  \n",
    "Demography_data['Age'] = [np.random.randint(s, e) for s,e in zip(Demography_data['Age1'], Demography_data['Age2'])]\n",
    "del Demography_data['Age1']\n",
    "del Demography_data['Age2']\n",
    "merged=pd.merge(Hospital_data, Demography_data , on='inpatient_number')\n",
    "alive=merged[merged['outcome_during_hospitalization']=='Alive']\n",
    "average_age=alive['Age'].mean()\n",
    "print(\"average age of patients with outcome alive\",round(average_age,2))\n"
   ]
  }
 ],
 "metadata": {
  "kernelspec": {
   "display_name": "Python 3 (ipykernel)",
   "language": "python",
   "name": "python3"
  },
  "language_info": {
   "codemirror_mode": {
    "name": "ipython",
    "version": 3
   },
   "file_extension": ".py",
   "mimetype": "text/x-python",
   "name": "python",
   "nbconvert_exporter": "python",
   "pygments_lexer": "ipython3",
   "version": "3.11.7"
  }
 },
 "nbformat": 4,
 "nbformat_minor": 5
}
