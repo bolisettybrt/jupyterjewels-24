{
 "cells": [
  {
   "cell_type": "code",
   "execution_count": 1,
   "id": "b5cde6fa-05dc-4770-a83c-bdd25e1a1b9d",
   "metadata": {},
   "outputs": [
    {
     "name": "stdout",
     "output_type": "stream",
     "text": [
      "Requirement already satisfied: pandas in c:\\users\\vidhy\\anaconda3\\lib\\site-packages (2.1.4)\n",
      "Requirement already satisfied: numpy<2,>=1.23.2 in c:\\users\\vidhy\\anaconda3\\lib\\site-packages (from pandas) (1.26.4)\n",
      "Requirement already satisfied: python-dateutil>=2.8.2 in c:\\users\\vidhy\\anaconda3\\lib\\site-packages (from pandas) (2.8.2)\n",
      "Requirement already satisfied: pytz>=2020.1 in c:\\users\\vidhy\\anaconda3\\lib\\site-packages (from pandas) (2023.3.post1)\n",
      "Requirement already satisfied: tzdata>=2022.1 in c:\\users\\vidhy\\anaconda3\\lib\\site-packages (from pandas) (2023.3)\n",
      "Requirement already satisfied: six>=1.5 in c:\\users\\vidhy\\anaconda3\\lib\\site-packages (from python-dateutil>=2.8.2->pandas) (1.16.0)\n",
      "Note: you may need to restart the kernel to use updated packages.\n"
     ]
    }
   ],
   "source": [
    "pip install pandas"
   ]
  },
  {
   "cell_type": "markdown",
   "id": "db1d1bcf-db41-404b-92e7-7a43fddca505",
   "metadata": {},
   "source": [
    "import pandas as pd\n",
    "data_file=(\"Cardiac_Outcomes.xlsx\")\n",
    "all_sheets=pd.read_excel(data_file,sheet_name=None)\n",
    "#to access sheet by name in excel\n",
    "Hospital_data=all_sheets['Hospitalization_Discharge']\n",
    "Cardiac_data=all_sheets['CardiacComplications']\n",
    "Response_data=all_sheets['Responsivenes']\n",
    "Patient_data=all_sheets['PatientHistory']\n",
    "lab_data=all_sheets['Labs']\n",
    "Demography_data=all_sheets['Demography']\n",
    "Patientpre_data=all_sheets['Patient_Precriptions']\n",
    "print(data_file)"
   ]
  },
  {
   "cell_type": "markdown",
   "id": "cb2535d3-f3ab-40d3-96f5-b619dc34088e",
   "metadata": {},
   "source": [
    "# 1) How many patients were registered in each unique occupation?"
   ]
  },
  {
   "cell_type": "code",
   "execution_count": 5,
   "id": "9f5fb951-9b92-49e9-a5d2-9319fa5ec9e7",
   "metadata": {
    "scrolled": true
   },
   "outputs": [
    {
     "name": "stdout",
     "output_type": "stream",
     "text": [
      "occupation\n",
      "UrbanResident    1670\n",
      "farmer            198\n",
      "Others             89\n",
      "worker             17\n",
      "Officer             7\n",
      "Name: count, dtype: int64\n"
     ]
    }
   ],
   "source": [
    "count=Demography_data[\"occupation\"].value_counts()\n",
    "print(count)\n"
   ]
  },
  {
   "cell_type": "markdown",
   "id": "cdc5f50c-be9b-45ec-ba7f-b5a3f2e124f0",
   "metadata": {},
   "source": [
    "# 4) What percentage of patients had Biventricular heart failure?"
   ]
  },
  {
   "cell_type": "code",
   "execution_count": 6,
   "id": "b74b4022-f871-40b4-953f-3cd3a986d675",
   "metadata": {},
   "outputs": [
    {
     "name": "stdout",
     "output_type": "stream",
     "text": [
      "Percentage of Biventricular Patients 73.71\n"
     ]
    }
   ],
   "source": [
    "total_patients=len(Cardiac_data['inpatient_number'])\n",
    "bi_patients=(Cardiac_data['type_of_heart_failure']=='Both').sum()\n",
    "percent= (bi_patients / total_patients) * 100\n",
    "percentage = f\"{percent:.2f}\"\n",
    "print(\"Percentage of Biventricular Patients\", percentage)\n"
   ]
  },
  {
   "cell_type": "markdown",
   "id": "38a224fc-0e6c-47f1-8726-9cf46dbe968d",
   "metadata": {},
   "source": [
    "# 54) For all non-negative integers that are also even numbers in the array [0,1,2,6,8] print i*i"
   ]
  },
  {
   "cell_type": "code",
   "execution_count": 7,
   "id": "6028fa8e-0eb3-48a2-846a-c5abc706b744",
   "metadata": {
    "scrolled": true
   },
   "outputs": [
    {
     "name": "stdout",
     "output_type": "stream",
     "text": [
      "Non Negative Even Number: 0   0\n",
      "Non Negative Even Number: 2   4\n",
      "Non Negative Even Number: 6   36\n",
      "Non Negative Even Number: 8   64\n"
     ]
    }
   ],
   "source": [
    "array=[0,1,2,6,8]\n",
    "for i in array:\n",
    "  if i%2==0:\n",
    "    print(\"Non Negative Even Number:\",i,' ',i*i)"
   ]
  },
  {
   "cell_type": "markdown",
   "id": "db6c8eb5-0cf6-45df-beed-1934120e59de",
   "metadata": {},
   "source": [
    "# 56) Using loc, retrieve the agegroup and weight between indices 101 and 201."
   ]
  },
  {
   "cell_type": "code",
   "execution_count": 8,
   "id": "0c93ac7d-4b3b-4030-aeae-a4320b67fca8",
   "metadata": {},
   "outputs": [
    {
     "data": {
      "text/html": [
       "<div>\n",
       "<style scoped>\n",
       "    .dataframe tbody tr th:only-of-type {\n",
       "        vertical-align: middle;\n",
       "    }\n",
       "\n",
       "    .dataframe tbody tr th {\n",
       "        vertical-align: top;\n",
       "    }\n",
       "\n",
       "    .dataframe thead th {\n",
       "        text-align: right;\n",
       "    }\n",
       "</style>\n",
       "<table border=\"1\" class=\"dataframe\">\n",
       "  <thead>\n",
       "    <tr style=\"text-align: right;\">\n",
       "      <th></th>\n",
       "      <th>ageCat</th>\n",
       "      <th>weight</th>\n",
       "    </tr>\n",
       "  </thead>\n",
       "  <tbody>\n",
       "    <tr>\n",
       "      <th>101</th>\n",
       "      <td>69-79</td>\n",
       "      <td>41.0</td>\n",
       "    </tr>\n",
       "    <tr>\n",
       "      <th>102</th>\n",
       "      <td>79-89</td>\n",
       "      <td>64.0</td>\n",
       "    </tr>\n",
       "    <tr>\n",
       "      <th>103</th>\n",
       "      <td>79-89</td>\n",
       "      <td>61.0</td>\n",
       "    </tr>\n",
       "    <tr>\n",
       "      <th>104</th>\n",
       "      <td>79-89</td>\n",
       "      <td>40.0</td>\n",
       "    </tr>\n",
       "    <tr>\n",
       "      <th>105</th>\n",
       "      <td>69-79</td>\n",
       "      <td>73.0</td>\n",
       "    </tr>\n",
       "    <tr>\n",
       "      <th>...</th>\n",
       "      <td>...</td>\n",
       "      <td>...</td>\n",
       "    </tr>\n",
       "    <tr>\n",
       "      <th>197</th>\n",
       "      <td>79-89</td>\n",
       "      <td>50.0</td>\n",
       "    </tr>\n",
       "    <tr>\n",
       "      <th>198</th>\n",
       "      <td>89-110</td>\n",
       "      <td>50.0</td>\n",
       "    </tr>\n",
       "    <tr>\n",
       "      <th>199</th>\n",
       "      <td>69-79</td>\n",
       "      <td>50.0</td>\n",
       "    </tr>\n",
       "    <tr>\n",
       "      <th>200</th>\n",
       "      <td>59-69</td>\n",
       "      <td>63.0</td>\n",
       "    </tr>\n",
       "    <tr>\n",
       "      <th>201</th>\n",
       "      <td>69-79</td>\n",
       "      <td>60.0</td>\n",
       "    </tr>\n",
       "  </tbody>\n",
       "</table>\n",
       "<p>101 rows × 2 columns</p>\n",
       "</div>"
      ],
      "text/plain": [
       "     ageCat  weight\n",
       "101   69-79    41.0\n",
       "102   79-89    64.0\n",
       "103   79-89    61.0\n",
       "104   79-89    40.0\n",
       "105   69-79    73.0\n",
       "..      ...     ...\n",
       "197   79-89    50.0\n",
       "198  89-110    50.0\n",
       "199   69-79    50.0\n",
       "200   59-69    63.0\n",
       "201   69-79    60.0\n",
       "\n",
       "[101 rows x 2 columns]"
      ]
     },
     "execution_count": 8,
     "metadata": {},
     "output_type": "execute_result"
    }
   ],
   "source": [
    "Demography_data.loc[101:201,['ageCat','weight']]"
   ]
  },
  {
   "cell_type": "code",
   "execution_count": null,
   "id": "39cab4f8-c742-4b71-8c1c-d896cc4d5dcd",
   "metadata": {},
   "outputs": [],
   "source": []
  }
 ],
 "metadata": {
  "kernelspec": {
   "display_name": "Python 3 (ipykernel)",
   "language": "python",
   "name": "python3"
  },
  "language_info": {
   "codemirror_mode": {
    "name": "ipython",
    "version": 3
   },
   "file_extension": ".py",
   "mimetype": "text/x-python",
   "name": "python",
   "nbconvert_exporter": "python",
   "pygments_lexer": "ipython3",
   "version": "3.11.7"
  }
 },
 "nbformat": 4,
 "nbformat_minor": 5
}
