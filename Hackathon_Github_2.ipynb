{
 "cells": [
  {
   "cell_type": "code",
   "execution_count": null,
   "id": "b37e5603-64c9-4803-b78d-c1a3c866c945",
   "metadata": {},
   "outputs": [],
   "source": [
    "pip install pandas"
   ]
  },
  {
   "cell_type": "code",
   "execution_count": 1,
   "id": "e3d1464d-eaa7-4d7c-ba6c-900d25b4171e",
   "metadata": {},
   "outputs": [],
   "source": [
    "import pandas as pd\n",
    "\n",
    "data_file=('Cardiac_Outcomes.xlsx')\n",
    "all_sheets=pd.read_excel(data_file,sheet_name=None)\n",
    "#to access sheet by name in excel\n",
    "Hospital_data=all_sheets['Hospitalization_Discharge']\n",
    "Cardiac_data=all_sheets['CardiacComplications']\n",
    "Response_data=all_sheets['Responsivenes']\n",
    "Patient_data=all_sheets['PatientHistory']\n",
    "lab_data=all_sheets['Labs']\n",
    "Demography_data=all_sheets['Demography']\n",
    "Prescription_data=all_sheets['Patient_Precriptions']"
   ]
  },
  {
   "cell_type": "markdown",
   "id": "feacec80-dc8e-4e54-ab0c-bd11ec4e2f41",
   "metadata": {},
   "source": [
    "# 23)How many patients were prescribed Digoxin?"
   ]
  },
  {
   "cell_type": "code",
   "execution_count": 4,
   "id": "e3d84a1c-6eee-4696-bd95-78b3715a8584",
   "metadata": {},
   "outputs": [
    {
     "name": "stdout",
     "output_type": "stream",
     "text": [
      "No of patients who were prescribed Dgoxin :  999\n"
     ]
    }
   ],
   "source": [
    "Digoxin_patients = Prescription_data[Prescription_data['Drug_name'] == 'Digoxin tablet']\n",
    "\n",
    "print (\"No of patients who were prescribed Dgoxin : \",len(Digoxin_patients))\n"
   ]
  },
  {
   "cell_type": "markdown",
   "id": "c8bb309a-48d5-4a9e-b47e-c0cabea8054b",
   "metadata": {},
   "source": [
    "# Q46 Convert occupation into numeric by Label encoding"
   ]
  },
  {
   "cell_type": "code",
   "execution_count": 5,
   "id": "f3993865-d9b0-4ed0-87d1-3d50a2f1eda5",
   "metadata": {},
   "outputs": [
    {
     "data": {
      "text/plain": [
       "occupation\n",
       "2    1670\n",
       "3     198\n",
       "1      89\n",
       "5      27\n",
       "4      17\n",
       "0       7\n",
       "Name: count, dtype: int64"
      ]
     },
     "execution_count": 5,
     "metadata": {},
     "output_type": "execute_result"
    }
   ],
   "source": [
    "from sklearn.preprocessing import  LabelEncoder\n",
    "\n",
    "encoder = LabelEncoder()\n",
    "\n",
    "Demography_data['occupation']= encoder.fit_transform(Demography_data['occupation']) \n",
    "Demography_data['occupation'].value_counts()"
   ]
  },
  {
   "cell_type": "markdown",
   "id": "df68d78c-252b-46aa-9e7e-bbde5d11a140",
   "metadata": {},
   "source": [
    "# Q 75 What % of those with an outcome of death, had myocardial infarction?"
   ]
  },
  {
   "cell_type": "code",
   "execution_count": 6,
   "id": "a1807731-4474-4886-acc7-a769499422b9",
   "metadata": {},
   "outputs": [
    {
     "name": "stdout",
     "output_type": "stream",
     "text": [
      "% of those with an outcome of death, had myocardial infarction 9.09\n"
     ]
    },
    {
     "name": "stderr",
     "output_type": "stream",
     "text": [
      "C:\\Users\\mlkar\\AppData\\Local\\Temp\\ipykernel_23428\\2487279507.py:12: FutureWarning: Series.bool is now deprecated and will be removed in future version of pandas\n",
      "  if (y == 1).bool():\n"
     ]
    }
   ],
   "source": [
    "dead_data = Hospital_data[Hospital_data['outcome_during_hospitalization'] == 'Dead']\n",
    "patient_nos = dead_data['inpatient_number']\n",
    "\n",
    "\n",
    "mayo_cnt = 0\n",
    "\n",
    "for x in patient_nos:\n",
    "    mayocardial_data=Cardiac_data[Cardiac_data['inpatient_number'] == x]\n",
    " \n",
    "    y = mayocardial_data['myocardial_infarction']\n",
    "    \n",
    "    if (y == 1).bool():   \n",
    "        mayo_cnt += 1\n",
    "\n",
    "percent_of_mayo_dead = (mayo_cnt/len( patient_nos))*100\n",
    "\n",
    "print(\"% of those with an outcome of death, had myocardial infarction\" ,f\"{percent_of_mayo_dead:.2f}\")"
   ]
  },
  {
   "cell_type": "markdown",
   "id": "54ff10c5-694b-4f42-a9a5-45642619db6c",
   "metadata": {},
   "source": [
    "# Q76 What is the ratio of those with congestive heart failure to those who had type of heart failure Both?  GITHUB"
   ]
  },
  {
   "cell_type": "code",
   "execution_count": 7,
   "id": "6e21189b-9554-4dc0-83b4-084859ca3d39",
   "metadata": {},
   "outputs": [
    {
     "name": "stdout",
     "output_type": "stream",
     "text": [
      "1872 1480\n",
      "Ratio of the people with congestive heart failure to those who had type of heart failure Both : 1.26\n"
     ]
    }
   ],
   "source": [
    "congest_heart = Cardiac_data[Cardiac_data['congestive_heart_failure'] == 1]\n",
    "\n",
    "type_of_heart_failure = Cardiac_data[Cardiac_data['type_of_heart_failure'] == 'Both']\n",
    "\n",
    "print(len(congest_heart),len(type_of_heart_failure))\n",
    "ratio = (len(congest_heart)/len(type_of_heart_failure))\n",
    "\n",
    "print(\"Ratio of the people with congestive heart failure to those who had type of heart failure Both :\",f\"{ratio:.2f}\")"
   ]
  }
 ],
 "metadata": {
  "kernelspec": {
   "display_name": "Python 3 (ipykernel)",
   "language": "python",
   "name": "python3"
  },
  "language_info": {
   "codemirror_mode": {
    "name": "ipython",
    "version": 3
   },
   "file_extension": ".py",
   "mimetype": "text/x-python",
   "name": "python",
   "nbconvert_exporter": "python",
   "pygments_lexer": "ipython3",
   "version": "3.11.7"
  }
 },
 "nbformat": 4,
 "nbformat_minor": 5
}
