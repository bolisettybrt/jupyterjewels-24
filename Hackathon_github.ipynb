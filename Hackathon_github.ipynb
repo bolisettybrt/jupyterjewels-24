{
 "cells": [
  {
   "cell_type": "code",
   "execution_count": 89,
   "id": "c4697c6d-05ff-4c79-9aca-b5ea17e38d4c",
   "metadata": {},
   "outputs": [
    {
     "name": "stdout",
     "output_type": "stream",
     "text": [
      "Note: you may need to restart the kernel to use updated packages.Requirement already satisfied: pandas in c:\\users\\mlkar\\anaconda3\\lib\\site-packages (2.1.4)\n",
      "Requirement already satisfied: numpy<2,>=1.23.2 in c:\\users\\mlkar\\anaconda3\\lib\\site-packages (from pandas) (1.26.4)\n",
      "Requirement already satisfied: python-dateutil>=2.8.2 in c:\\users\\mlkar\\anaconda3\\lib\\site-packages (from pandas) (2.8.2)\n",
      "Requirement already satisfied: pytz>=2020.1 in c:\\users\\mlkar\\anaconda3\\lib\\site-packages (from pandas) (2023.3.post1)\n",
      "Requirement already satisfied: tzdata>=2022.1 in c:\\users\\mlkar\\anaconda3\\lib\\site-packages (from pandas) (2023.3)\n",
      "Requirement already satisfied: six>=1.5 in c:\\users\\mlkar\\anaconda3\\lib\\site-packages (from python-dateutil>=2.8.2->pandas) (1.16.0)\n",
      "\n"
     ]
    }
   ],
   "source": [
    "pip install pandas"
   ]
  },
  {
   "cell_type": "code",
   "execution_count": 1,
   "id": "84af5a50-9c31-45e7-9e4e-6dc711b8d150",
   "metadata": {},
   "outputs": [],
   "source": [
    "import pandas as pd\n",
    "\n",
    "data_file=('Cardiac_Outcomes.xlsx')\n",
    "all_sheets=pd.read_excel(data_file,sheet_name=None)\n",
    "Hospital_data=all_sheets['Hospitalization_Discharge']\n",
    "Cardiac_data=all_sheets['CardiacComplications']\n",
    "Response_data=all_sheets['Responsivenes']\n",
    "Patient_data=all_sheets['PatientHistory']\n",
    "lab_data=all_sheets['Labs']\n",
    "Demography_data=all_sheets['Demography']\n",
    "Prescription_data=all_sheets['Patient_Precriptions']\n"
   ]
  },
  {
   "cell_type": "markdown",
   "id": "fef1cf0c-a96d-4deb-88db-6b6078a2d1f1",
   "metadata": {},
   "source": [
    "# 21.\"Given the names and grades for each student in a class of students, store them in a nested list and print the name(s) of any student(s) having the second lowest grade.\n",
    "python_students = [['Harry', 37.21], ['Berry', 37.21], ['Tina', 37.2], ['Akriti', 41], ['Harsh', 39]]\"n\n"
   ]
  },
  {
   "cell_type": "code",
   "execution_count": 7,
   "id": "eb73fc8c-b045-4517-ada3-291af8d9db52",
   "metadata": {},
   "outputs": [
    {
     "name": "stdout",
     "output_type": "stream",
     "text": [
      "[['Harry', 37.21], ['Berry', 37.21], ['Tina', 37.2], ['Akriti', 41], ['Harsh', 39]]\n",
      "[['Tina', 37.2], ['Harry', 37.21], ['Berry', 37.21], ['Harsh', 39], ['Akriti', 41]]\n",
      "['Harry', 37.21]\n",
      "Second lowest grade  :  37.21\n",
      "Harry\n",
      "Berry\n"
     ]
    }
   ],
   "source": [
    "python_students = [['Harry', 37.21], ['Berry', 37.21], ['Tina', 37.2], ['Akriti', 41], ['Harsh', 39]]\n",
    "\n",
    "def myFunc(x):\n",
    "  return  x[1]\n",
    "\n",
    "print(python_students)\n",
    "python_students.sort(key=myFunc)\n",
    "print(python_students)\n",
    "print(python_students[1])\n",
    "second_lowest = python_students[1]\n",
    "print (\"Second lowest grade  : \", second_lowest[1])\n",
    "for x in python_students:\n",
    "    if x[1] == second_lowest[1]:\n",
    "        print (x[0])"
   ]
  },
  {
   "attachments": {},
   "cell_type": "markdown",
   "id": "cac4453c-ff48-4a5a-bacb-4b5a7da29c4f",
   "metadata": {},
   "source": [
    "# 23)How many patients were prescribed Digoxin?"
   ]
  },
  {
   "cell_type": "code",
   "execution_count": 9,
   "id": "c0478ae9-b0ee-4e45-867a-49397f43fa88",
   "metadata": {},
   "outputs": [
    {
     "name": "stdout",
     "output_type": "stream",
     "text": [
      "No of patients who were prescribed Dgoxin :  999\n"
     ]
    }
   ],
   "source": [
    "\n",
    "Digoxin_patients = Prescription_data[Prescription_data['Drug_name'] == 'Digoxin tablet']\n",
    "print (\"No of patients who were prescribed Dgoxin : \",len(Digoxin_patients))\n",
    "\n",
    "#print (\"No of patients who were prescribed Dgoxin : \",Digoxin_patients.count())"
   ]
  },
  {
   "cell_type": "markdown",
   "id": "96cc6dfb-befa-4b30-9fa8-05aff76f00c2",
   "metadata": {},
   "source": [
    "#  25)Using GCS score, how many patients are considered to be in a coma?"
   ]
  },
  {
   "cell_type": "code",
   "execution_count": 8,
   "id": "04856cad-a1ae-4f71-b7e1-275938e1ddc1",
   "metadata": {
    "scrolled": true
   },
   "outputs": [
    {
     "name": "stdout",
     "output_type": "stream",
     "text": [
      "No of coma patients  19\n"
     ]
    }
   ],
   "source": [
    "coma_data = Response_data[Response_data['GCS'] <= 8]\n",
    "print(\"No of coma patients : \",len(coma_data))\n",
    "#print(\"No of coma patients \",coma_data.count())"
   ]
  },
  {
   "cell_type": "markdown",
   "id": "415fbd51-1473-49f9-a0f3-5af3af582a77",
   "metadata": {},
   "source": [
    "# Q 50  Display the lab details of the patient with maximum pulse using the .loc"
   ]
  },
  {
   "cell_type": "code",
   "execution_count": null,
   "id": "2fe039d2-5e71-49b8-b491-543e24cfb6b9",
   "metadata": {},
   "outputs": [],
   "source": [
    "max_pulse = lab_data.sort_values(by = 'pulse',ascending=False)\n",
    "max_pulse.head(1)"
   ]
  },
  {
   "cell_type": "markdown",
   "id": "e19b31a0-db2a-4c59-83a3-b7ccca88808a",
   "metadata": {},
   "source": [
    "# Q 75 What % of those with an outcome of death, had myocardial infarction?"
   ]
  },
  {
   "cell_type": "code",
   "execution_count": 18,
   "id": "b1d9d590-4ff9-4008-ab40-b8f2ae1f0162",
   "metadata": {},
   "outputs": [
    {
     "name": "stdout",
     "output_type": "stream",
     "text": [
      "% of those with an outcome of death, had myocardial infarction 9.09\n"
     ]
    },
    {
     "name": "stderr",
     "output_type": "stream",
     "text": [
      "C:\\Users\\mlkar\\AppData\\Local\\Temp\\ipykernel_58888\\2487279507.py:12: FutureWarning: Series.bool is now deprecated and will be removed in future version of pandas\n",
      "  if (y == 1).bool():\n"
     ]
    }
   ],
   "source": [
    "dead_data = Hospital_data[Hospital_data['outcome_during_hospitalization'] == 'Dead']\n",
    "patient_nos = dead_data['inpatient_number']\n",
    "\n",
    "\n",
    "mayo_cnt = 0\n",
    "\n",
    "for x in patient_nos:\n",
    "    mayocardial_data=Cardiac_data[Cardiac_data['inpatient_number'] == x]\n",
    " \n",
    "    y = mayocardial_data['myocardial_infarction']\n",
    "    \n",
    "    if (y == 1).bool():   \n",
    "        mayo_cnt += 1\n",
    "\n",
    "percent_of_mayo_dead = (mayo_cnt/len( patient_nos))*100\n",
    "\n",
    "print(\"% of those with an outcome of death, had myocardial infarction\" ,f\"{percent_of_mayo_dead:.2f}\")"
   ]
  }
 ],
 "metadata": {
  "kernelspec": {
   "display_name": "Python 3 (ipykernel)",
   "language": "python",
   "name": "python3"
  },
  "language_info": {
   "codemirror_mode": {
    "name": "ipython",
    "version": 3
   },
   "file_extension": ".py",
   "mimetype": "text/x-python",
   "name": "python",
   "nbconvert_exporter": "python",
   "pygments_lexer": "ipython3",
   "version": "3.11.7"
  }
 },
 "nbformat": 4,
 "nbformat_minor": 5
}
