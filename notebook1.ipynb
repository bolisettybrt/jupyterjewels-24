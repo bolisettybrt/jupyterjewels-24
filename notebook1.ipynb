{
 "cells": [
  {
   "cell_type": "code",
   "execution_count": 1,
   "id": "acf00efd-e56d-4afe-bf6b-d984cc49db81",
   "metadata": {},
   "outputs": [
    {
     "name": "stdout",
     "output_type": "stream",
     "text": [
      "Requirement already satisfied: pandas in c:\\users\\thoma\\anaconda3\\lib\\site-packages (2.1.4)\n",
      "Requirement already satisfied: numpy<2,>=1.23.2 in c:\\users\\thoma\\anaconda3\\lib\\site-packages (from pandas) (1.26.4)\n",
      "Requirement already satisfied: python-dateutil>=2.8.2 in c:\\users\\thoma\\anaconda3\\lib\\site-packages (from pandas) (2.8.2)\n",
      "Requirement already satisfied: pytz>=2020.1 in c:\\users\\thoma\\anaconda3\\lib\\site-packages (from pandas) (2023.3.post1)\n",
      "Requirement already satisfied: tzdata>=2022.1 in c:\\users\\thoma\\anaconda3\\lib\\site-packages (from pandas) (2023.3)\n",
      "Requirement already satisfied: six>=1.5 in c:\\users\\thoma\\anaconda3\\lib\\site-packages (from python-dateutil>=2.8.2->pandas) (1.16.0)\n",
      "Note: you may need to restart the kernel to use updated packages.\n"
     ]
    }
   ],
   "source": [
    "pip install pandas\n"
   ]
  },
  {
   "cell_type": "code",
   "execution_count": 12,
   "id": "53d10e36-69d6-466d-8498-e084cff3d2b2",
   "metadata": {},
   "outputs": [],
   "source": [
    "import pandas as pd"
   ]
  },
  {
   "cell_type": "code",
   "execution_count": 14,
   "id": "a03c4aaf-12c3-483f-b296-e40be0cd7f99",
   "metadata": {},
   "outputs": [],
   "source": [
    "df = pd.read_excel(\"Cardiac_Outcomes.xlsx\")"
   ]
  },
  {
   "cell_type": "code",
   "execution_count": 1,
   "id": "e60b8913-dadc-4212-a9b7-f7a47e8d613c",
   "metadata": {},
   "outputs": [
    {
     "ename": "NameError",
     "evalue": "name 'pd' is not defined",
     "output_type": "error",
     "traceback": [
      "\u001b[1;31m---------------------------------------------------------------------------\u001b[0m",
      "\u001b[1;31mNameError\u001b[0m                                 Traceback (most recent call last)",
      "Cell \u001b[1;32mIn[1], line 1\u001b[0m\n\u001b[1;32m----> 1\u001b[0m response\u001b[38;5;241m=\u001b[39m pd\u001b[38;5;241m.\u001b[39mread_excel(\u001b[38;5;124m'\u001b[39m\u001b[38;5;124mCardiac_Outcomes.xlsx\u001b[39m\u001b[38;5;124m'\u001b[39m, sheet_name\u001b[38;5;241m=\u001b[39m\u001b[38;5;124m'\u001b[39m\u001b[38;5;124mPatientHistory\u001b[39m\u001b[38;5;124m'\u001b[39m)\n\u001b[0;32m      2\u001b[0m card\u001b[38;5;241m=\u001b[39m pd\u001b[38;5;241m.\u001b[39mread_excel(\u001b[38;5;124m'\u001b[39m\u001b[38;5;124mCardiac_Outcomes.xlsx\u001b[39m\u001b[38;5;124m'\u001b[39m, sheet_name\u001b[38;5;241m=\u001b[39m\u001b[38;5;124m'\u001b[39m\u001b[38;5;124mCardiacComplications\u001b[39m\u001b[38;5;124m'\u001b[39m)\n",
      "\u001b[1;31mNameError\u001b[0m: name 'pd' is not defined"
     ]
    }
   ],
   "source": [
    "response= pd.read_excel('Cardiac_Outcomes.xlsx', sheet_name='PatientHistory')\n",
    "card= pd.read_excel('Cardiac_Outcomes.xlsx', sheet_name='CardiacComplications')\n",
    "response\n",
    "card\n"
   ]
  },
  {
   "cell_type": "code",
   "execution_count": null,
   "id": "1f353932-d9fb-4b7a-bed0-e09133541719",
   "metadata": {},
   "outputs": [],
   "source": []
  },
  {
   "cell_type": "code",
   "execution_count": 17,
   "id": "67ad647f-170e-4a4a-a03e-57e72c9418d0",
   "metadata": {},
   "outputs": [],
   "source": [
    "data_file=('Cardiac_Outcomes.xlsx')\n",
    "all_sheets=pd.read_excel(data_file,sheet_name=None)\n",
    "\n",
    "Hospital_data=all_sheets['Hospitalization_Discharge']\n",
    "Cardiac_data=all_sheets['CardiacComplications']\n",
    "Response_data=all_sheets['Responsivenes']\n",
    "Patient_data=all_sheets['PatientHistory']\n",
    "lab_data=all_sheets['Labs']\n",
    "Demography_data=all_sheets['Demography']\n",
    "Patientpre_data=all_sheets['Patient_Precriptions']\n",
    "\n"
   ]
  },
  {
   "cell_type": "code",
   "execution_count": 4,
   "id": "72ca6231-7b0a-4536-8927-5f456b871ddd",
   "metadata": {},
   "outputs": [
    {
     "name": "stdout",
     "output_type": "stream",
     "text": [
      "Count of 'responsive to pain': 4\n",
      "count of responsive to sound: 19\n",
      "patients ratio is: 0.21052631578947367\n"
     ]
    },
    {
     "name": "stderr",
     "output_type": "stream",
     "text": [
      "C:\\Users\\thoma\\AppData\\Local\\Temp\\ipykernel_14360\\1005034562.py:6: FutureWarning: pandas.value_counts is deprecated and will be removed in a future version. Use pd.Series(obj).value_counts() instead.\n",
      "  responsive_pain_count = pd.value_counts(Response_data['consciousness'])['ResponsiveToPain']\n",
      "C:\\Users\\thoma\\AppData\\Local\\Temp\\ipykernel_14360\\1005034562.py:9: FutureWarning: pandas.value_counts is deprecated and will be removed in a future version. Use pd.Series(obj).value_counts() instead.\n",
      "  responsive_sound_count =pd.value_counts(Response_data['consciousness'])['ResponsiveToSound']\n"
     ]
    }
   ],
   "source": [
    "#5 What is the ratio of patients who were responsive to pain vs responsive to sound?\n",
    "import pandas as pd\n",
    "data_file=('Cardiac_Outcomes.xlsx')\n",
    "all_sheets=pd.read_excel(data_file,sheet_name=None)\n",
    "\n",
    "Response_data=all_sheets['Responsivenes']\n",
    "responsive_pain_count = pd.value_counts(Response_data['consciousness'])['ResponsiveToPain']\n",
    "print(\"Count of 'responsive to pain':\", responsive_pain_count)\n",
    "\n",
    "responsive_sound_count =pd.value_counts(Response_data['consciousness'])['ResponsiveToSound']\n",
    "print(\"count of responsive to sound:\",responsive_sound_count)\n",
    "\n",
    "ratio=responsive_pain_count/responsive_sound_count\n",
    "print(\"patients ratio is:\",ratio)\n"
   ]
  },
  {
   "cell_type": "code",
   "execution_count": 5,
   "id": "4e128779-c952-4aa4-89bd-3da4625c2d9c",
   "metadata": {},
   "outputs": [
    {
     "name": "stdout",
     "output_type": "stream",
     "text": [
      "[[32 45]\n",
      " [42 56]]\n"
     ]
    }
   ],
   "source": [
    "#9 Create any 2 2-D arrays and perform matrix multiplication. Display the resulting array.\n",
    "import numpy as np\n",
    "arr1 = np.array([[4, 5],\n",
    "                    [6, 7]])\n",
    "arr2 = np.array([[8, 9],\n",
    "                    [7, 8]])\n",
    "\n",
    "\n",
    "arr_mul = np.multiply(arr1, arr2)\n",
    "\n",
    "print(arr_mul)\n"
   ]
  },
  {
   "cell_type": "code",
   "execution_count": 49,
   "id": "5313f10d-4d66-4231-a82d-139721b3c4ce",
   "metadata": {},
   "outputs": [
    {
     "data": {
      "text/plain": [
       "cholinesterase              100.00\n",
       "homocysteine                 92.73\n",
       "apolipoprotein_A             91.24\n",
       "apolipoprotein_B             91.24\n",
       "lipoprotein                  91.24\n",
       "                             ...  \n",
       "diastolic_blood_pressure      0.00\n",
       "systolic_blood_pressure       0.00\n",
       "respiration                   0.00\n",
       "pulse                         0.00\n",
       "inpatient_number              0.00\n",
       "Length: 107, dtype: float64"
      ]
     },
     "execution_count": 49,
     "metadata": {},
     "output_type": "execute_result"
    }
   ],
   "source": [
    "#10 Display the percentage of missing values in each column in the table labs. Show the distribution as a bar graph\n",
    "import pandas as pd\n",
    "import pandas as pd \n",
    "import matplotlib.pyplot as plt \n",
    "  \n",
    "lab_df=pd.read_excel('Cardiac_Outcomes.xlsx', sheet_name='Labs')\n",
    "percent_missing = (lab_df.isnull().sum().sort_values(ascending = False) * 100 / len(lab_df)).round(2)\n",
    "percent_missing\n",
    "lab_df.plot(x=\"percent_missing\", y=[\"\", \"\"], kind=\"bar\") "
   ]
  },
  {
   "cell_type": "code",
   "execution_count": 50,
   "id": "b5d2f6c2-8b31-4b74-b102-4aaf4f3e547d",
   "metadata": {},
   "outputs": [
    {
     "data": {
      "text/plain": [
       "cholinesterase                    100.00\n",
       "homocysteine                       92.73\n",
       "apolipoprotein_A                   91.24\n",
       "apolipoprotein_B                   91.24\n",
       "lipoprotein                        91.24\n",
       "erythrocyte_sedimentation_rate     84.71\n",
       "myoglobin                          80.18\n",
       "Inorganic_Phosphorus               79.73\n",
       "serum_magnesium                    79.73\n",
       "glutamic_oxaliplatin               70.52\n",
       "high_sensitivity_protein           53.14\n",
       "reduced_hemoglobin                 50.60\n",
       "methemoglobin                      50.60\n",
       "hematocrit_blood_gas               50.60\n",
       "total_hemoglobin                   50.60\n",
       "oxyhemoglobin                      50.60\n",
       "carboxyhemoglobin                  50.60\n",
       "potassium_ion                      50.55\n",
       "measured_bicarbonate               50.55\n",
       "free_calcium                       50.55\n",
       "dtype: float64"
      ]
     },
     "execution_count": 50,
     "metadata": {},
     "output_type": "execute_result"
    }
   ],
   "source": [
    "percent_missing.head(20)"
   ]
  },
  {
   "cell_type": "code",
   "execution_count": null,
   "id": "e0da912b-6650-439a-896a-6c604f784b4b",
   "metadata": {},
   "outputs": [],
   "source": []
  }
 ],
 "metadata": {
  "kernelspec": {
   "display_name": "Python 3 (ipykernel)",
   "language": "python",
   "name": "python3"
  },
  "language_info": {
   "codemirror_mode": {
    "name": "ipython",
    "version": 3
   },
   "file_extension": ".py",
   "mimetype": "text/x-python",
   "name": "python",
   "nbconvert_exporter": "python",
   "pygments_lexer": "ipython3",
   "version": "3.11.7"
  }
 },
 "nbformat": 4,
 "nbformat_minor": 5
}
