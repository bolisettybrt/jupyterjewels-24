{
 "cells": [
  {
   "cell_type": "code",
   "execution_count": 2,
   "id": "b6088372-5177-4600-93a9-b806311ca5fb",
   "metadata": {},
   "outputs": [
    {
     "name": "stdout",
     "output_type": "stream",
     "text": [
      "Cardiac_Outcomes.xlsx\n"
     ]
    }
   ],
   "source": [
    "import pandas as pd\n",
    "import numpy as np\n",
    "import matplotlib.pyplot as plt\n",
    "\n",
    "data_file=(\"Cardiac_Outcomes.xlsx\")\n",
    "all_sheets=pd.read_excel(data_file,sheet_name=None)\n",
    "#to access sheet by name in excel\n",
    "Hospital_data=all_sheets['Hospitalization_Discharge']\n",
    "Cardiac_data=all_sheets['CardiacComplications']\n",
    "Response_data=all_sheets['Responsivenes']\n",
    "Patient_data=all_sheets['PatientHistory']\n",
    "lab_data=all_sheets['Labs']\n",
    "Demography_data=all_sheets['Demography']\n",
    "Patientpre_data=all_sheets['Patient_Precriptions']\n",
    "print(data_file)\n"
   ]
  },
  {
   "cell_type": "markdown",
   "id": "14c6ec34-4803-4de2-a3fb-72d369f85a65",
   "metadata": {},
   "source": [
    "# 1) tachypnea and bradypnea patients count?"
   ]
  },
  {
   "cell_type": "code",
   "execution_count": 72,
   "id": "28cfc1d4-d0e8-4ed9-b280-6ce80bf21c42",
   "metadata": {},
   "outputs": [
    {
     "name": "stdout",
     "output_type": "stream",
     "text": [
      "Tachpnea Patients Count: 240\n",
      "Bradypnea Patients Count: 1\n"
     ]
    }
   ],
   "source": [
    "Tachpnea = (lab_data['respiration']>20).sum()\n",
    "print('Tachpnea Patients Count:',Tachpnea)\n",
    "Bradypnea = (lab_data['respiration']<12).sum()\n",
    "print('Bradypnea Patients Count:',Bradypnea)"
   ]
  },
  {
   "cell_type": "markdown",
   "id": "92b26243-fc61-4c2b-9602-6c8cfd52394c",
   "metadata": {},
   "source": [
    "# 2) Dementia Male patients count? Average age for Dementia Male paient?"
   ]
  },
  {
   "cell_type": "code",
   "execution_count": 73,
   "id": "d6e61b80-5ccd-4744-917e-e78d546f168a",
   "metadata": {},
   "outputs": [
    {
     "name": "stdout",
     "output_type": "stream",
     "text": [
      "Dementia male patients 64\n",
      "average age for Dementia male patient: 72\n"
     ]
    }
   ],
   "source": [
    "def Random_Age(age):\n",
    " return pd.Series(age.split(\"-\", 1))\n",
    "Demography_data[['Age1', 'Age2']] = Demography_data['ageCat'].apply(Random_Age)  \n",
    "Demography_data['Age'] = [np.random.randint(s, e) for s,e in zip(Demography_data['Age1'], Demography_data['Age2'])]\n",
    "del Demography_data['Age1']\n",
    "del Demography_data['Age2']\n",
    "merged=pd.merge(Patient_data, Demography_data , on='inpatient_number')\n",
    "Dementia_Male= ((merged['dementia']==1) & (merged['gender']=='Male')).sum()\n",
    "print(\"Dementia male patients\",Dementia_Male)\n",
    "Male_count=merged[merged['gender']=='Male']\n",
    "Average=Male_count['Age'].mean()\n",
    "print('average age for Dementia male patient:',round(Average))"
   ]
  },
  {
   "cell_type": "markdown",
   "id": "cbe05049-c369-4b77-84bd-c1039a5829c9",
   "metadata": {},
   "source": [
    "# 3) percentage of patients in cardiology to home?"
   ]
  },
  {
   "cell_type": "code",
   "execution_count": 74,
   "id": "5d3b9ef4-2782-4c24-9838-399ef74efac2",
   "metadata": {},
   "outputs": [
    {
     "name": "stdout",
     "output_type": "stream",
     "text": [
      "Percentage of Cardiology patients returned to home: 71.17 %\n"
     ]
    }
   ],
   "source": [
    "Cardiology_Patients= (Hospital_data['admission_ward']=='Cardiology').sum()\n",
    "Cardiology_Home = ((Hospital_data['DestinationDischarge']=='Home') & (Hospital_data['admission_ward']=='Cardiology' )).sum()\n",
    "Percentage=Cardiology_Home/Cardiology_Patients*100\n",
    "print('Percentage of Cardiology patients returned to home:',round(Percentage,2),'%')"
   ]
  },
  {
   "cell_type": "markdown",
   "id": "79309db8-0f27-4874-8d1d-194875189dfd",
   "metadata": {},
   "source": [
    "# 4) Percentage of  Female Farmers?"
   ]
  },
  {
   "cell_type": "code",
   "execution_count": 75,
   "id": "a4f90946-6131-48f2-ad63-862deb479aec",
   "metadata": {},
   "outputs": [
    {
     "name": "stdout",
     "output_type": "stream",
     "text": [
      "Female Farmers Percentage: 57 %\n"
     ]
    }
   ],
   "source": [
    "female_farmers = ((Demography_data['occupation']=='farmer') & (Demography_data['gender']=='Female')).sum()\n",
    "Total_Farmers=(Demography_data['occupation']=='farmer').sum()\n",
    "Percentage=female_farmers/Total_Farmers*100\n",
    "print('Female Farmers Percentage:',round(Percentage),'%')\n"
   ]
  },
  {
   "cell_type": "markdown",
   "id": "aafa20b3-8220-4022-a4a8-521d05e996e5",
   "metadata": {},
   "source": [
    "# 5) what is the ratio between Thrombocytopenia Patients and Thrombocytosis Patients? "
   ]
  },
  {
   "cell_type": "code",
   "execution_count": 76,
   "id": "d0e30f31-83fb-43c2-80c2-5c95cca84e53",
   "metadata": {},
   "outputs": [
    {
     "name": "stdout",
     "output_type": "stream",
     "text": [
      "ratio between Thrombocytopenia and Thrombocytosis Patients: 170\n"
     ]
    }
   ],
   "source": [
    "Thrombocytopenia=(lab_data['platelet']<150).sum()\n",
    "Thrombocytosis=(lab_data['platelet']>450).sum()\n",
    "ratio=cytopenia/cytosis\n",
    "print('ratio between Thrombocytopenia and Thrombocytosis Patients:',round(ratio))\n"
   ]
  },
  {
   "cell_type": "markdown",
   "id": "9421f302-5440-459f-b949-6062af264308",
   "metadata": {},
   "source": [
    "# 6) Find count of Liver Disease Patients with Hypofibrinogenemia and Liver Disease Patients with 'Hyperfibrinogenemia?"
   ]
  },
  {
   "cell_type": "code",
   "execution_count": 77,
   "id": "db1c3cca-56a0-4fdb-8e43-fa75f14db827",
   "metadata": {},
   "outputs": [
    {
     "name": "stdout",
     "output_type": "stream",
     "text": [
      "liver patients  84\n",
      "liver patients with Hyperfibrinogemia  8\n",
      "liver patients with Hypofibrinogemia  2\n"
     ]
    }
   ],
   "source": [
    "merged=pd.merge(Patient_data, lab_data , on='inpatient_number')\n",
    "Liver_Patients=(merged['liver_disease']==1).sum()\n",
    "print('liver patients ',Liver_Patients)\n",
    "liver_Hyperfibrinogemia=((merged['liver_disease']==1) & (merged['fibrinogen']>4)).sum()\n",
    "print('liver patients with Hyperfibrinogemia ',liver_Hyperfibrinogemia)\n",
    "liver_Hypofibrinogemia=((merged['liver_disease']==1) & (merged['fibrinogen']<1)).sum()\n",
    "print('liver patients with Hypofibrinogemia ',liver_Hypofibrinogemia)"
   ]
  },
  {
   "cell_type": "markdown",
   "id": "f7f42a3d-9584-4c43-a910-adb304a9d2dd",
   "metadata": {},
   "source": [
    "# 7) Create BarChart with Gender and Diabetes?"
   ]
  },
  {
   "cell_type": "code",
   "execution_count": 78,
   "id": "ad54cde4-ea41-4c52-bbe5-ab4d7a32b603",
   "metadata": {},
   "outputs": [
    {
     "data": {
      "image/png": "[encoded data removed]",
      "text/plain": [
       "<Figure size 640x480 with 1 Axes>"
      ]
     },
     "metadata": {},
     "output_type": "display_data"
    }
   ],
   "source": [
    "import seaborn as sns\n",
    "import matplotlib.pyplot as plt\n",
    "merged=pd.merge(Patient_data,Demography_data, on='inpatient_number')\n",
    "#concated=pd.concat([lab_data,Demography_data],axis=1)\n",
    "bars = plt.bar(merged['gender'],merged ['diabetes'])\n",
    "#sns.violinplot(x='gender',y='pulse',data=merged)\n",
    "plt.xlabel(\"Pulse\")\n",
    "plt.ylabel(\"Age\")\n",
    "plt.title(\" diabetes and Gender\")\n",
    "plt.show()"
   ]
  },
  {
   "cell_type": "markdown",
   "id": "03a9f313-4ea0-4a6f-b15d-c5d864724947",
   "metadata": {},
   "source": [
    "# 8) Find the Correlation between Pulse and Temperature?"
   ]
  },
  {
   "cell_type": "code",
   "execution_count": 79,
   "id": "064696e7-b7eb-4867-902d-1eb9c30ebfb1",
   "metadata": {},
   "outputs": [
    {
     "name": "stdout",
     "output_type": "stream",
     "text": [
      "Correlation Between Pulse and Temprature 0.09\n"
     ]
    }
   ],
   "source": [
    "correlation =lab_data['pulse'].corr(lab_data['body_temperature'])\n",
    "print('Correlation Between Pulse and Temprature',round(correlation,2))"
   ]
  }
 ],
 "metadata": {
  "kernelspec": {
   "display_name": "Python 3 (ipykernel)",
   "language": "python",
   "name": "python3"
  },
  "language_info": {
   "codemirror_mode": {
    "name": "ipython",
    "version": 3
   },
   "file_extension": ".py",
   "mimetype": "text/x-python",
   "name": "python",
   "nbconvert_exporter": "python",
   "pygments_lexer": "ipython3",
   "version": "3.11.7"
  }
 },
 "nbformat": 4,
 "nbformat_minor": 5
}
