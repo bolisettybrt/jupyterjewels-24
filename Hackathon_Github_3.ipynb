{
 "cells": [
  {
   "cell_type": "code",
   "execution_count": 3,
   "id": "97cd0a44-0fa6-43fa-9f75-71e486289318",
   "metadata": {},
   "outputs": [],
   "source": [
    "import numpy as np\n",
    "import pandas as pd\n",
    "import plotly.express as px\n",
    "import matplotlib.pyplot as plt \n",
    "\n",
    "data_file=('Cardiac_Outcomes.xlsx')\n",
    "all_sheets=pd.read_excel(data_file,sheet_name=None)\n",
    "#to access sheet by name in excel\n",
    "Hospital_data=all_sheets['Hospitalization_Discharge']\n",
    "Cardiac_data=all_sheets['CardiacComplications']\n",
    "Response_data=all_sheets['Responsivenes']\n",
    "Patient_data=all_sheets['PatientHistory']\n",
    "lab_data=all_sheets['Labs']\n",
    "Demography_data=all_sheets['Demography']\n",
    "Prescription_data=all_sheets['Patient_Precriptions']"
   ]
  },
  {
   "cell_type": "markdown",
   "id": "0050c43a-491b-4327-b097-7bd629aa84a1",
   "metadata": {},
   "source": [
    "# Q 22  Which patient was on the most number of prescribed drugs? What was his age and outcome?  PUSH TO Github"
   ]
  },
  {
   "cell_type": "code",
   "execution_count": 4,
   "id": "4ac4a5ce-0fac-42b6-abd3-953a3b86ad9b",
   "metadata": {},
   "outputs": [
    {
     "name": "stdout",
     "output_type": "stream",
     "text": [
      " Patient with more no of drugs : 777204\n",
      " Outcome                       :  Alive\n",
      " Age Category                  :  79-89\n"
     ]
    }
   ],
   "source": [
    "patient_drug_cnt = Prescription_data.value_counts(['inpatient_number']).sort_values(ascending=False).reset_index()\n",
    "\n",
    "top_rec =patient_drug_cnt.head(1)\n",
    "\n",
    "#print(top_rec)\n",
    "pid= top_rec['inpatient_number']\n",
    "#print(pid)\n",
    "print(\" Patient with more no of drugs :\",pid[0])\n",
    "\n",
    "\n",
    "pat_rec = Hospital_data[Hospital_data['inpatient_number'] == pid[0]]  \n",
    "pat_outcome = pat_rec['outcome_during_hospitalization'].values[0]\n",
    "#print(pat_outcome)\n",
    "\n",
    "print( \" Outcome                       : \",pat_outcome)\n",
    "\n",
    "demo_rec = Demography_data[Demography_data['inpatient_number'] == pid[0]]\n",
    "pat_agecat = demo_rec['ageCat'].values[0]\n",
    "print(\" Age Category                  : \",pat_agecat)"
   ]
  },
  {
   "cell_type": "markdown",
   "id": "774171a5-722b-47e5-9644-84011da9ae38",
   "metadata": {},
   "source": [
    "# Q77 LIst the number of cardiogenic shock patients based on hospitalization outcome, having a severe GCS score(higher risk of death) "
   ]
  },
  {
   "cell_type": "code",
   "execution_count": null,
   "id": "80021d58-5468-4e56-b97d-36cf1806187f",
   "metadata": {},
   "outputs": [],
   "source": [
    "alive_data = Hospital_data[Hospital_data['outcome_during_hospitalization'] != 'Dead']\n",
    "patient_nos = alive_data['inpatient_number']\n",
    "\n",
    "len(alive_data)\n",
    "(alive_data)\n",
    "\n",
    "gcs_critical = Response_data[Response_data['GCS']<=8]\n",
    "\n",
    "gcs_critical_alive =gcs_critical[gcs_critical['inpatient_number'].isin (alive_data['inpatient_number'])]\n",
    "#gcc_patients=Response_data[Response_data['inpatient_number'].isin (alive_data['inpatient_number']\n",
    "print (\"NO of cardiogenic shock patients based on hospitalization outcome, having a severe GCS score :\",len(gcs_critical_alive))"
   ]
  },
  {
   "cell_type": "code",
   "execution_count": null,
   "id": "709d9493-2619-45de-82fd-0bc3a627d242",
   "metadata": {},
   "outputs": [],
   "source": [
    "# "
   ]
  }
 ],
 "metadata": {
  "kernelspec": {
   "display_name": "Python 3 (ipykernel)",
   "language": "python",
   "name": "python3"
  },
  "language_info": {
   "codemirror_mode": {
    "name": "ipython",
    "version": 3
   },
   "file_extension": ".py",
   "mimetype": "text/x-python",
   "name": "python",
   "nbconvert_exporter": "python",
   "pygments_lexer": "ipython3",
   "version": "3.11.7"
  }
 },
 "nbformat": 4,
 "nbformat_minor": 5
}
