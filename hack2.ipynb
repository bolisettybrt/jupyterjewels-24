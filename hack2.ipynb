{
 "cells": [
  {
   "cell_type": "code",
   "execution_count": null,
   "id": "10fd81a4-03bd-41ad-85c7-d76c0906829d",
   "metadata": {},
   "outputs": [],
   "source": [
    " 11\t\"A valid mobile number is a ten digit number starting with a 7,8 or 9. For every string listed, print \"\"YES\"\" \n",
    " if it is a valid mobile number and \"\"NO\"\" if it is not on separate lines. Do not print the quotes.\n",
    "{2,9587456281,1252478965,7397260044}\""
   ]
  },
  {
   "cell_type": "code",
   "execution_count": 8,
   "id": "527ea85b-2e2d-4b78-9c1a-f97c7fe29eec",
   "metadata": {},
   "outputs": [
    {
     "name": "stdout",
     "output_type": "stream",
     "text": [
      "2\n",
      "NO\n",
      "9587456281\n",
      "YES\n",
      "1252478965\n",
      "NO\n",
      "7397260044\n",
      "YES\n"
     ]
    }
   ],
   "source": [
    "import re\n",
    "\n",
    "# List of strings\n",
    "data = [\"2\", \"9587456281\", \"1252478965\", \"7397260044\"]\n",
    "\n",
    "\n",
    "pattern = r'^[7-9]\\d{9}$'\n",
    "\n",
    "for x in data:\n",
    "    print(x)\n",
    "    if re.match(pattern,x ):\n",
    "        print(\"YES\")\n",
    "    else:\n",
    "        print(\"NO\")"
   ]
  },
  {
   "cell_type": "code",
   "execution_count": null,
   "id": "cdbd7f9b-bef0-4222-9280-b1f710ddd324",
   "metadata": {},
   "outputs": [],
   "source": []
  }
 ],
 "metadata": {
  "kernelspec": {
   "display_name": "Python 3 (ipykernel)",
   "language": "python",
   "name": "python3"
  },
  "language_info": {
   "codemirror_mode": {
    "name": "ipython",
    "version": 3
   },
   "file_extension": ".py",
   "mimetype": "text/x-python",
   "name": "python",
   "nbconvert_exporter": "python",
   "pygments_lexer": "ipython3",
   "version": "3.11.7"
  }
 },
 "nbformat": 4,
 "nbformat_minor": 5
}
